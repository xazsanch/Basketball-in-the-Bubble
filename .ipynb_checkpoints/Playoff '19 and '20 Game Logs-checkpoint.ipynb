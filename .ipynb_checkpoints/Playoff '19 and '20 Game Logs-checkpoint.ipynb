{
 "cells": [
  {
   "cell_type": "code",
   "execution_count": 716,
   "metadata": {
    "scrolled": true
   },
   "outputs": [],
   "source": [
    "import pandas as pd\n",
    "import numpy as np\n",
    "import scipy.stats as stats\n",
    "import random\n",
    "import matplotlib.pyplot as plt\n",
    "from datetime import datetime, time\n",
    "from matplotlib.offsetbox import AnchoredText\n",
    "pd.set_option('display.max_rows', 10)\n"
   ]
  },
  {
   "cell_type": "code",
   "execution_count": 508,
   "metadata": {
    "scrolled": false
   },
   "outputs": [
    {
     "data": {
      "text/html": [
       "<div>\n",
       "<style scoped>\n",
       "    .dataframe tbody tr th:only-of-type {\n",
       "        vertical-align: middle;\n",
       "    }\n",
       "\n",
       "    .dataframe tbody tr th {\n",
       "        vertical-align: top;\n",
       "    }\n",
       "\n",
       "    .dataframe thead th {\n",
       "        text-align: right;\n",
       "    }\n",
       "</style>\n",
       "<table border=\"1\" class=\"dataframe\">\n",
       "  <thead>\n",
       "    <tr style=\"text-align: right;\">\n",
       "      <th></th>\n",
       "      <th>NAME</th>\n",
       "      <th>DATE</th>\n",
       "      <th>AGE</th>\n",
       "      <th>TEAM</th>\n",
       "      <th>HOME/AWAY</th>\n",
       "      <th>OPPONENT</th>\n",
       "      <th>RESULT</th>\n",
       "      <th>GS</th>\n",
       "      <th>MP</th>\n",
       "      <th>FG</th>\n",
       "      <th>FGA</th>\n",
       "      <th>FG%</th>\n",
       "      <th>3P</th>\n",
       "      <th>3PA</th>\n",
       "      <th>3P%</th>\n",
       "      <th>FT</th>\n",
       "      <th>FTA</th>\n",
       "      <th>FT%</th>\n",
       "      <th>ORB</th>\n",
       "      <th>DRB</th>\n",
       "      <th>TRB</th>\n",
       "      <th>AST</th>\n",
       "      <th>STL</th>\n",
       "      <th>BLK</th>\n",
       "      <th>TOV</th>\n",
       "      <th>PF</th>\n",
       "      <th>PTS</th>\n",
       "      <th>GAME_SCORE</th>\n",
       "      <th>+/-</th>\n",
       "      <th>TS%</th>\n",
       "      <th>Games Played</th>\n",
       "      <th>mins</th>\n",
       "    </tr>\n",
       "  </thead>\n",
       "  <tbody>\n",
       "    <tr>\n",
       "      <th>0</th>\n",
       "      <td>Aron Baynes</td>\n",
       "      <td>2019-04-14</td>\n",
       "      <td>32-126</td>\n",
       "      <td>BOS</td>\n",
       "      <td>HOME</td>\n",
       "      <td>IND</td>\n",
       "      <td>W (+10)</td>\n",
       "      <td>1</td>\n",
       "      <td>22:56</td>\n",
       "      <td>1</td>\n",
       "      <td>2</td>\n",
       "      <td>0.500</td>\n",
       "      <td>0</td>\n",
       "      <td>0</td>\n",
       "      <td>NaN</td>\n",
       "      <td>0</td>\n",
       "      <td>0</td>\n",
       "      <td>NaN</td>\n",
       "      <td>2</td>\n",
       "      <td>7</td>\n",
       "      <td>9</td>\n",
       "      <td>0</td>\n",
       "      <td>0</td>\n",
       "      <td>1</td>\n",
       "      <td>1</td>\n",
       "      <td>4</td>\n",
       "      <td>2</td>\n",
       "      <td>2.6</td>\n",
       "      <td>0</td>\n",
       "      <td>0.500</td>\n",
       "      <td>1</td>\n",
       "      <td>22.0</td>\n",
       "    </tr>\n",
       "    <tr>\n",
       "      <th>1</th>\n",
       "      <td>Aron Baynes</td>\n",
       "      <td>2019-04-17</td>\n",
       "      <td>32-129</td>\n",
       "      <td>BOS</td>\n",
       "      <td>HOME</td>\n",
       "      <td>IND</td>\n",
       "      <td>W (+8)</td>\n",
       "      <td>1</td>\n",
       "      <td>14:36</td>\n",
       "      <td>2</td>\n",
       "      <td>2</td>\n",
       "      <td>1.000</td>\n",
       "      <td>1</td>\n",
       "      <td>1</td>\n",
       "      <td>1.000</td>\n",
       "      <td>0</td>\n",
       "      <td>0</td>\n",
       "      <td>NaN</td>\n",
       "      <td>0</td>\n",
       "      <td>2</td>\n",
       "      <td>2</td>\n",
       "      <td>2</td>\n",
       "      <td>0</td>\n",
       "      <td>1</td>\n",
       "      <td>1</td>\n",
       "      <td>3</td>\n",
       "      <td>5</td>\n",
       "      <td>4.9</td>\n",
       "      <td>-8</td>\n",
       "      <td>1.250</td>\n",
       "      <td>2</td>\n",
       "      <td>14.0</td>\n",
       "    </tr>\n",
       "    <tr>\n",
       "      <th>2</th>\n",
       "      <td>Aron Baynes</td>\n",
       "      <td>2019-04-19</td>\n",
       "      <td>32-131</td>\n",
       "      <td>BOS</td>\n",
       "      <td>AWAY</td>\n",
       "      <td>IND</td>\n",
       "      <td>W (+8)</td>\n",
       "      <td>1</td>\n",
       "      <td>21:10</td>\n",
       "      <td>1</td>\n",
       "      <td>3</td>\n",
       "      <td>0.333</td>\n",
       "      <td>0</td>\n",
       "      <td>1</td>\n",
       "      <td>0.000</td>\n",
       "      <td>0</td>\n",
       "      <td>0</td>\n",
       "      <td>NaN</td>\n",
       "      <td>2</td>\n",
       "      <td>1</td>\n",
       "      <td>3</td>\n",
       "      <td>1</td>\n",
       "      <td>1</td>\n",
       "      <td>0</td>\n",
       "      <td>1</td>\n",
       "      <td>3</td>\n",
       "      <td>2</td>\n",
       "      <td>1.5</td>\n",
       "      <td>1</td>\n",
       "      <td>0.333</td>\n",
       "      <td>3</td>\n",
       "      <td>21.0</td>\n",
       "    </tr>\n",
       "    <tr>\n",
       "      <th>3</th>\n",
       "      <td>Aron Baynes</td>\n",
       "      <td>2019-04-21</td>\n",
       "      <td>32-133</td>\n",
       "      <td>BOS</td>\n",
       "      <td>AWAY</td>\n",
       "      <td>IND</td>\n",
       "      <td>W (+4)</td>\n",
       "      <td>1</td>\n",
       "      <td>18:16</td>\n",
       "      <td>1</td>\n",
       "      <td>1</td>\n",
       "      <td>1.000</td>\n",
       "      <td>0</td>\n",
       "      <td>0</td>\n",
       "      <td>NaN</td>\n",
       "      <td>0</td>\n",
       "      <td>0</td>\n",
       "      <td>NaN</td>\n",
       "      <td>0</td>\n",
       "      <td>2</td>\n",
       "      <td>2</td>\n",
       "      <td>0</td>\n",
       "      <td>1</td>\n",
       "      <td>0</td>\n",
       "      <td>1</td>\n",
       "      <td>2</td>\n",
       "      <td>2</td>\n",
       "      <td>1.5</td>\n",
       "      <td>-3</td>\n",
       "      <td>1.000</td>\n",
       "      <td>4</td>\n",
       "      <td>18.0</td>\n",
       "    </tr>\n",
       "    <tr>\n",
       "      <th>9</th>\n",
       "      <td>Aron Baynes</td>\n",
       "      <td>2019-04-14</td>\n",
       "      <td>32-126</td>\n",
       "      <td>BOS</td>\n",
       "      <td>HOME</td>\n",
       "      <td>IND</td>\n",
       "      <td>W (+10)</td>\n",
       "      <td>1</td>\n",
       "      <td>22:56</td>\n",
       "      <td>1</td>\n",
       "      <td>2</td>\n",
       "      <td>0.500</td>\n",
       "      <td>0</td>\n",
       "      <td>0</td>\n",
       "      <td>NaN</td>\n",
       "      <td>0</td>\n",
       "      <td>0</td>\n",
       "      <td>NaN</td>\n",
       "      <td>2</td>\n",
       "      <td>7</td>\n",
       "      <td>9</td>\n",
       "      <td>0</td>\n",
       "      <td>0</td>\n",
       "      <td>1</td>\n",
       "      <td>1</td>\n",
       "      <td>4</td>\n",
       "      <td>2</td>\n",
       "      <td>2.6</td>\n",
       "      <td>0</td>\n",
       "      <td>0.500</td>\n",
       "      <td>10</td>\n",
       "      <td>22.0</td>\n",
       "    </tr>\n",
       "    <tr>\n",
       "      <th>...</th>\n",
       "      <td>...</td>\n",
       "      <td>...</td>\n",
       "      <td>...</td>\n",
       "      <td>...</td>\n",
       "      <td>...</td>\n",
       "      <td>...</td>\n",
       "      <td>...</td>\n",
       "      <td>...</td>\n",
       "      <td>...</td>\n",
       "      <td>...</td>\n",
       "      <td>...</td>\n",
       "      <td>...</td>\n",
       "      <td>...</td>\n",
       "      <td>...</td>\n",
       "      <td>...</td>\n",
       "      <td>...</td>\n",
       "      <td>...</td>\n",
       "      <td>...</td>\n",
       "      <td>...</td>\n",
       "      <td>...</td>\n",
       "      <td>...</td>\n",
       "      <td>...</td>\n",
       "      <td>...</td>\n",
       "      <td>...</td>\n",
       "      <td>...</td>\n",
       "      <td>...</td>\n",
       "      <td>...</td>\n",
       "      <td>...</td>\n",
       "      <td>...</td>\n",
       "      <td>...</td>\n",
       "      <td>...</td>\n",
       "      <td>...</td>\n",
       "    </tr>\n",
       "    <tr>\n",
       "      <th>1747</th>\n",
       "      <td>Ricky Rubio</td>\n",
       "      <td>2019-04-20</td>\n",
       "      <td>28-181</td>\n",
       "      <td>UTA</td>\n",
       "      <td>HOME</td>\n",
       "      <td>HOU</td>\n",
       "      <td>L (-3)</td>\n",
       "      <td>1</td>\n",
       "      <td>30:41</td>\n",
       "      <td>3</td>\n",
       "      <td>6</td>\n",
       "      <td>0.500</td>\n",
       "      <td>0</td>\n",
       "      <td>2</td>\n",
       "      <td>0.000</td>\n",
       "      <td>4</td>\n",
       "      <td>6</td>\n",
       "      <td>0.667</td>\n",
       "      <td>0</td>\n",
       "      <td>4</td>\n",
       "      <td>4</td>\n",
       "      <td>6</td>\n",
       "      <td>2</td>\n",
       "      <td>0</td>\n",
       "      <td>5</td>\n",
       "      <td>3</td>\n",
       "      <td>10</td>\n",
       "      <td>7.4</td>\n",
       "      <td>4</td>\n",
       "      <td>0.579</td>\n",
       "      <td>3</td>\n",
       "      <td>30.0</td>\n",
       "    </tr>\n",
       "    <tr>\n",
       "      <th>1748</th>\n",
       "      <td>Ricky Rubio</td>\n",
       "      <td>2019-04-22</td>\n",
       "      <td>28-183</td>\n",
       "      <td>UTA</td>\n",
       "      <td>HOME</td>\n",
       "      <td>HOU</td>\n",
       "      <td>W (+16)</td>\n",
       "      <td>1</td>\n",
       "      <td>38:38</td>\n",
       "      <td>6</td>\n",
       "      <td>17</td>\n",
       "      <td>0.353</td>\n",
       "      <td>1</td>\n",
       "      <td>7</td>\n",
       "      <td>0.143</td>\n",
       "      <td>5</td>\n",
       "      <td>6</td>\n",
       "      <td>0.833</td>\n",
       "      <td>1</td>\n",
       "      <td>2</td>\n",
       "      <td>3</td>\n",
       "      <td>11</td>\n",
       "      <td>1</td>\n",
       "      <td>1</td>\n",
       "      <td>3</td>\n",
       "      <td>3</td>\n",
       "      <td>18</td>\n",
       "      <td>14.6</td>\n",
       "      <td>15</td>\n",
       "      <td>0.458</td>\n",
       "      <td>4</td>\n",
       "      <td>38.0</td>\n",
       "    </tr>\n",
       "    <tr>\n",
       "      <th>1749</th>\n",
       "      <td>Ricky Rubio</td>\n",
       "      <td>2019-04-24</td>\n",
       "      <td>28-185</td>\n",
       "      <td>UTA</td>\n",
       "      <td>AWAY</td>\n",
       "      <td>HOU</td>\n",
       "      <td>L (-7)</td>\n",
       "      <td>1</td>\n",
       "      <td>34:53</td>\n",
       "      <td>7</td>\n",
       "      <td>15</td>\n",
       "      <td>0.467</td>\n",
       "      <td>1</td>\n",
       "      <td>5</td>\n",
       "      <td>0.200</td>\n",
       "      <td>2</td>\n",
       "      <td>2</td>\n",
       "      <td>1.000</td>\n",
       "      <td>0</td>\n",
       "      <td>2</td>\n",
       "      <td>2</td>\n",
       "      <td>11</td>\n",
       "      <td>3</td>\n",
       "      <td>0</td>\n",
       "      <td>3</td>\n",
       "      <td>3</td>\n",
       "      <td>17</td>\n",
       "      <td>16.4</td>\n",
       "      <td>2</td>\n",
       "      <td>0.535</td>\n",
       "      <td>5</td>\n",
       "      <td>34.0</td>\n",
       "    </tr>\n",
       "    <tr>\n",
       "      <th>1750</th>\n",
       "      <td>Thabo Sefolosha</td>\n",
       "      <td>2019-04-14</td>\n",
       "      <td>34-347</td>\n",
       "      <td>UTA</td>\n",
       "      <td>AWAY</td>\n",
       "      <td>HOU</td>\n",
       "      <td>L (-32)</td>\n",
       "      <td>0</td>\n",
       "      <td>14:49</td>\n",
       "      <td>1</td>\n",
       "      <td>6</td>\n",
       "      <td>0.167</td>\n",
       "      <td>1</td>\n",
       "      <td>4</td>\n",
       "      <td>0.250</td>\n",
       "      <td>0</td>\n",
       "      <td>0</td>\n",
       "      <td>NaN</td>\n",
       "      <td>0</td>\n",
       "      <td>1</td>\n",
       "      <td>1</td>\n",
       "      <td>1</td>\n",
       "      <td>0</td>\n",
       "      <td>0</td>\n",
       "      <td>0</td>\n",
       "      <td>0</td>\n",
       "      <td>3</td>\n",
       "      <td>0.2</td>\n",
       "      <td>-18</td>\n",
       "      <td>0.250</td>\n",
       "      <td>1</td>\n",
       "      <td>14.0</td>\n",
       "    </tr>\n",
       "    <tr>\n",
       "      <th>1752</th>\n",
       "      <td>Thabo Sefolosha</td>\n",
       "      <td>2019-04-22</td>\n",
       "      <td>34-355</td>\n",
       "      <td>UTA</td>\n",
       "      <td>HOME</td>\n",
       "      <td>HOU</td>\n",
       "      <td>W (+16)</td>\n",
       "      <td>0</td>\n",
       "      <td>13:37</td>\n",
       "      <td>1</td>\n",
       "      <td>2</td>\n",
       "      <td>0.500</td>\n",
       "      <td>0</td>\n",
       "      <td>1</td>\n",
       "      <td>0.000</td>\n",
       "      <td>0</td>\n",
       "      <td>0</td>\n",
       "      <td>NaN</td>\n",
       "      <td>0</td>\n",
       "      <td>1</td>\n",
       "      <td>1</td>\n",
       "      <td>0</td>\n",
       "      <td>0</td>\n",
       "      <td>0</td>\n",
       "      <td>0</td>\n",
       "      <td>1</td>\n",
       "      <td>2</td>\n",
       "      <td>0.9</td>\n",
       "      <td>12</td>\n",
       "      <td>0.500</td>\n",
       "      <td>3</td>\n",
       "      <td>13.0</td>\n",
       "    </tr>\n",
       "  </tbody>\n",
       "</table>\n",
       "<p>1274 rows × 32 columns</p>\n",
       "</div>"
      ],
      "text/plain": [
       "                 NAME        DATE     AGE TEAM HOME/AWAY OPPONENT   RESULT  \\\n",
       "0         Aron Baynes  2019-04-14  32-126  BOS      HOME      IND  W (+10)   \n",
       "1         Aron Baynes  2019-04-17  32-129  BOS      HOME      IND   W (+8)   \n",
       "2         Aron Baynes  2019-04-19  32-131  BOS      AWAY      IND   W (+8)   \n",
       "3         Aron Baynes  2019-04-21  32-133  BOS      AWAY      IND   W (+4)   \n",
       "9         Aron Baynes  2019-04-14  32-126  BOS      HOME      IND  W (+10)   \n",
       "...               ...         ...     ...  ...       ...      ...      ...   \n",
       "1747      Ricky Rubio  2019-04-20  28-181  UTA      HOME      HOU   L (-3)   \n",
       "1748      Ricky Rubio  2019-04-22  28-183  UTA      HOME      HOU  W (+16)   \n",
       "1749      Ricky Rubio  2019-04-24  28-185  UTA      AWAY      HOU   L (-7)   \n",
       "1750  Thabo Sefolosha  2019-04-14  34-347  UTA      AWAY      HOU  L (-32)   \n",
       "1752  Thabo Sefolosha  2019-04-22  34-355  UTA      HOME      HOU  W (+16)   \n",
       "\n",
       "      GS     MP  FG  FGA    FG%  3P  3PA    3P%  FT  FTA    FT%  ORB  DRB  \\\n",
       "0      1  22:56   1    2  0.500   0    0    NaN   0    0    NaN    2    7   \n",
       "1      1  14:36   2    2  1.000   1    1  1.000   0    0    NaN    0    2   \n",
       "2      1  21:10   1    3  0.333   0    1  0.000   0    0    NaN    2    1   \n",
       "3      1  18:16   1    1  1.000   0    0    NaN   0    0    NaN    0    2   \n",
       "9      1  22:56   1    2  0.500   0    0    NaN   0    0    NaN    2    7   \n",
       "...   ..    ...  ..  ...    ...  ..  ...    ...  ..  ...    ...  ...  ...   \n",
       "1747   1  30:41   3    6  0.500   0    2  0.000   4    6  0.667    0    4   \n",
       "1748   1  38:38   6   17  0.353   1    7  0.143   5    6  0.833    1    2   \n",
       "1749   1  34:53   7   15  0.467   1    5  0.200   2    2  1.000    0    2   \n",
       "1750   0  14:49   1    6  0.167   1    4  0.250   0    0    NaN    0    1   \n",
       "1752   0  13:37   1    2  0.500   0    1  0.000   0    0    NaN    0    1   \n",
       "\n",
       "      TRB  AST  STL  BLK  TOV  PF  PTS  GAME_SCORE  +/-    TS%  Games Played  \\\n",
       "0       9    0    0    1    1   4    2         2.6    0  0.500             1   \n",
       "1       2    2    0    1    1   3    5         4.9   -8  1.250             2   \n",
       "2       3    1    1    0    1   3    2         1.5    1  0.333             3   \n",
       "3       2    0    1    0    1   2    2         1.5   -3  1.000             4   \n",
       "9       9    0    0    1    1   4    2         2.6    0  0.500            10   \n",
       "...   ...  ...  ...  ...  ...  ..  ...         ...  ...    ...           ...   \n",
       "1747    4    6    2    0    5   3   10         7.4    4  0.579             3   \n",
       "1748    3   11    1    1    3   3   18        14.6   15  0.458             4   \n",
       "1749    2   11    3    0    3   3   17        16.4    2  0.535             5   \n",
       "1750    1    1    0    0    0   0    3         0.2  -18  0.250             1   \n",
       "1752    1    0    0    0    0   1    2         0.9   12  0.500             3   \n",
       "\n",
       "      mins  \n",
       "0     22.0  \n",
       "1     14.0  \n",
       "2     21.0  \n",
       "3     18.0  \n",
       "9     22.0  \n",
       "...    ...  \n",
       "1747  30.0  \n",
       "1748  38.0  \n",
       "1749  34.0  \n",
       "1750  14.0  \n",
       "1752  13.0  \n",
       "\n",
       "[1274 rows x 32 columns]"
      ]
     },
     "execution_count": 508,
     "metadata": {},
     "output_type": "execute_result"
    }
   ],
   "source": [
    "df = pd.read_csv('2018-2019 Game Log Playoffs.csv')\n",
    "df.head()\n",
    "df = df.drop(df.columns[[0]], axis = 1)\n",
    "cols = df.columns.tolist()\n",
    "cols = cols[-1:] + cols[:-1]\n",
    "df = df[cols]\n",
    "pd.set_option('display.max_columns', None)\n",
    "df['TS%'] = round(df['PTS']/(2*(df['FGA']+0.44*df['FTA'])),3)\n",
    "df['Games Played'] = df.groupby('NAME').cumcount() + 1\n",
    "#Only looking at data of players who played significant time\n",
    "df['mins'] = df['MP'].apply(lambda x: x.split(\":\")[0])\n",
    "df['mins'] = df['mins'].astype(float)\n",
    "df = df[df['mins']>12] \n",
    "df"
   ]
  },
  {
   "cell_type": "code",
   "execution_count": 255,
   "metadata": {
    "scrolled": false
   },
   "outputs": [],
   "source": [
    "import matplotlib.pylab as pylab\n",
    "params = {'legend.fontsize': 'x-large',\n",
    "          'figure.figsize': (7, 7),\n",
    "         'axes.labelsize': 'x-large',\n",
    "         'axes.titlesize':'x-large',\n",
    "         'xtick.labelsize':'x-large',\n",
    "         'ytick.labelsize':'x-large'}\n",
    "pylab.rcParams.update(params)"
   ]
  },
  {
   "cell_type": "code",
   "execution_count": 509,
   "metadata": {
    "scrolled": false
   },
   "outputs": [
    {
     "data": {
      "text/html": [
       "<div>\n",
       "<style scoped>\n",
       "    .dataframe tbody tr th:only-of-type {\n",
       "        vertical-align: middle;\n",
       "    }\n",
       "\n",
       "    .dataframe tbody tr th {\n",
       "        vertical-align: top;\n",
       "    }\n",
       "\n",
       "    .dataframe thead th {\n",
       "        text-align: right;\n",
       "    }\n",
       "</style>\n",
       "<table border=\"1\" class=\"dataframe\">\n",
       "  <thead>\n",
       "    <tr style=\"text-align: right;\">\n",
       "      <th></th>\n",
       "      <th>NAME</th>\n",
       "      <th>DATE</th>\n",
       "      <th>AGE</th>\n",
       "      <th>TEAM</th>\n",
       "      <th>HOME/AWAY</th>\n",
       "      <th>OPPONENT</th>\n",
       "      <th>RESULT</th>\n",
       "      <th>GS</th>\n",
       "      <th>MP</th>\n",
       "      <th>FG</th>\n",
       "      <th>FGA</th>\n",
       "      <th>FG%</th>\n",
       "      <th>3P</th>\n",
       "      <th>3PA</th>\n",
       "      <th>3P%</th>\n",
       "      <th>FT</th>\n",
       "      <th>FTA</th>\n",
       "      <th>FT%</th>\n",
       "      <th>ORB</th>\n",
       "      <th>DRB</th>\n",
       "      <th>TRB</th>\n",
       "      <th>AST</th>\n",
       "      <th>STL</th>\n",
       "      <th>BLK</th>\n",
       "      <th>TOV</th>\n",
       "      <th>PF</th>\n",
       "      <th>PTS</th>\n",
       "      <th>GAME_SCORE</th>\n",
       "      <th>+/-</th>\n",
       "      <th>TS%</th>\n",
       "      <th>Games Played</th>\n",
       "      <th>mins</th>\n",
       "    </tr>\n",
       "  </thead>\n",
       "  <tbody>\n",
       "    <tr>\n",
       "      <th>0</th>\n",
       "      <td>Jaylen Brown</td>\n",
       "      <td>2020-08-17</td>\n",
       "      <td>23-298</td>\n",
       "      <td>BOS</td>\n",
       "      <td>HOME</td>\n",
       "      <td>PHI</td>\n",
       "      <td>W (+8)</td>\n",
       "      <td>1</td>\n",
       "      <td>38:52</td>\n",
       "      <td>9</td>\n",
       "      <td>16</td>\n",
       "      <td>0.563</td>\n",
       "      <td>5</td>\n",
       "      <td>8</td>\n",
       "      <td>0.625</td>\n",
       "      <td>6</td>\n",
       "      <td>6</td>\n",
       "      <td>1.000</td>\n",
       "      <td>2</td>\n",
       "      <td>4</td>\n",
       "      <td>6</td>\n",
       "      <td>4</td>\n",
       "      <td>3</td>\n",
       "      <td>0</td>\n",
       "      <td>2</td>\n",
       "      <td>4</td>\n",
       "      <td>29</td>\n",
       "      <td>26.2</td>\n",
       "      <td>-1.0</td>\n",
       "      <td>0.778</td>\n",
       "      <td>1</td>\n",
       "      <td>38.0</td>\n",
       "    </tr>\n",
       "    <tr>\n",
       "      <th>1</th>\n",
       "      <td>Jaylen Brown</td>\n",
       "      <td>2020-08-19</td>\n",
       "      <td>23-300</td>\n",
       "      <td>BOS</td>\n",
       "      <td>HOME</td>\n",
       "      <td>PHI</td>\n",
       "      <td>W (+27)</td>\n",
       "      <td>1</td>\n",
       "      <td>28:26</td>\n",
       "      <td>6</td>\n",
       "      <td>13</td>\n",
       "      <td>0.462</td>\n",
       "      <td>2</td>\n",
       "      <td>7</td>\n",
       "      <td>0.286</td>\n",
       "      <td>6</td>\n",
       "      <td>6</td>\n",
       "      <td>1.000</td>\n",
       "      <td>2</td>\n",
       "      <td>3</td>\n",
       "      <td>5</td>\n",
       "      <td>1</td>\n",
       "      <td>0</td>\n",
       "      <td>1</td>\n",
       "      <td>0</td>\n",
       "      <td>2</td>\n",
       "      <td>20</td>\n",
       "      <td>16.2</td>\n",
       "      <td>10.0</td>\n",
       "      <td>0.639</td>\n",
       "      <td>2</td>\n",
       "      <td>28.0</td>\n",
       "    </tr>\n",
       "    <tr>\n",
       "      <th>2</th>\n",
       "      <td>Jaylen Brown</td>\n",
       "      <td>2020-08-21</td>\n",
       "      <td>23-302</td>\n",
       "      <td>BOS</td>\n",
       "      <td>AWAY</td>\n",
       "      <td>PHI</td>\n",
       "      <td>W (+8)</td>\n",
       "      <td>1</td>\n",
       "      <td>41:43</td>\n",
       "      <td>6</td>\n",
       "      <td>16</td>\n",
       "      <td>0.375</td>\n",
       "      <td>1</td>\n",
       "      <td>5</td>\n",
       "      <td>0.200</td>\n",
       "      <td>8</td>\n",
       "      <td>9</td>\n",
       "      <td>0.889</td>\n",
       "      <td>0</td>\n",
       "      <td>7</td>\n",
       "      <td>7</td>\n",
       "      <td>3</td>\n",
       "      <td>0</td>\n",
       "      <td>0</td>\n",
       "      <td>3</td>\n",
       "      <td>1</td>\n",
       "      <td>21</td>\n",
       "      <td>12.6</td>\n",
       "      <td>10.0</td>\n",
       "      <td>0.526</td>\n",
       "      <td>3</td>\n",
       "      <td>41.0</td>\n",
       "    </tr>\n",
       "    <tr>\n",
       "      <th>3</th>\n",
       "      <td>Jaylen Brown</td>\n",
       "      <td>2020-08-23</td>\n",
       "      <td>23-304</td>\n",
       "      <td>BOS</td>\n",
       "      <td>AWAY</td>\n",
       "      <td>PHI</td>\n",
       "      <td>W (+4)</td>\n",
       "      <td>1</td>\n",
       "      <td>41:00</td>\n",
       "      <td>6</td>\n",
       "      <td>15</td>\n",
       "      <td>0.400</td>\n",
       "      <td>2</td>\n",
       "      <td>9</td>\n",
       "      <td>0.222</td>\n",
       "      <td>2</td>\n",
       "      <td>3</td>\n",
       "      <td>0.667</td>\n",
       "      <td>0</td>\n",
       "      <td>5</td>\n",
       "      <td>5</td>\n",
       "      <td>2</td>\n",
       "      <td>1</td>\n",
       "      <td>0</td>\n",
       "      <td>5</td>\n",
       "      <td>3</td>\n",
       "      <td>16</td>\n",
       "      <td>5.2</td>\n",
       "      <td>-2.0</td>\n",
       "      <td>0.490</td>\n",
       "      <td>4</td>\n",
       "      <td>41.0</td>\n",
       "    </tr>\n",
       "    <tr>\n",
       "      <th>4</th>\n",
       "      <td>Jaylen Brown</td>\n",
       "      <td>2020-08-30</td>\n",
       "      <td>23-311</td>\n",
       "      <td>BOS</td>\n",
       "      <td>AWAY</td>\n",
       "      <td>TOR</td>\n",
       "      <td>W (+18)</td>\n",
       "      <td>1</td>\n",
       "      <td>31:17</td>\n",
       "      <td>6</td>\n",
       "      <td>18</td>\n",
       "      <td>0.333</td>\n",
       "      <td>3</td>\n",
       "      <td>9</td>\n",
       "      <td>0.333</td>\n",
       "      <td>2</td>\n",
       "      <td>3</td>\n",
       "      <td>0.667</td>\n",
       "      <td>0</td>\n",
       "      <td>5</td>\n",
       "      <td>5</td>\n",
       "      <td>4</td>\n",
       "      <td>0</td>\n",
       "      <td>0</td>\n",
       "      <td>2</td>\n",
       "      <td>5</td>\n",
       "      <td>17</td>\n",
       "      <td>6.7</td>\n",
       "      <td>10.0</td>\n",
       "      <td>0.440</td>\n",
       "      <td>5</td>\n",
       "      <td>31.0</td>\n",
       "    </tr>\n",
       "    <tr>\n",
       "      <th>...</th>\n",
       "      <td>...</td>\n",
       "      <td>...</td>\n",
       "      <td>...</td>\n",
       "      <td>...</td>\n",
       "      <td>...</td>\n",
       "      <td>...</td>\n",
       "      <td>...</td>\n",
       "      <td>...</td>\n",
       "      <td>...</td>\n",
       "      <td>...</td>\n",
       "      <td>...</td>\n",
       "      <td>...</td>\n",
       "      <td>...</td>\n",
       "      <td>...</td>\n",
       "      <td>...</td>\n",
       "      <td>...</td>\n",
       "      <td>...</td>\n",
       "      <td>...</td>\n",
       "      <td>...</td>\n",
       "      <td>...</td>\n",
       "      <td>...</td>\n",
       "      <td>...</td>\n",
       "      <td>...</td>\n",
       "      <td>...</td>\n",
       "      <td>...</td>\n",
       "      <td>...</td>\n",
       "      <td>...</td>\n",
       "      <td>...</td>\n",
       "      <td>...</td>\n",
       "      <td>...</td>\n",
       "      <td>...</td>\n",
       "      <td>...</td>\n",
       "    </tr>\n",
       "    <tr>\n",
       "      <th>1692</th>\n",
       "      <td>Royce O'Neale</td>\n",
       "      <td>2020-08-21</td>\n",
       "      <td>27-077</td>\n",
       "      <td>UTA</td>\n",
       "      <td>HOME</td>\n",
       "      <td>DEN</td>\n",
       "      <td>W (+37)</td>\n",
       "      <td>1</td>\n",
       "      <td>27:44</td>\n",
       "      <td>1</td>\n",
       "      <td>3</td>\n",
       "      <td>0.333</td>\n",
       "      <td>1</td>\n",
       "      <td>2</td>\n",
       "      <td>0.500</td>\n",
       "      <td>0</td>\n",
       "      <td>0</td>\n",
       "      <td>NaN</td>\n",
       "      <td>2</td>\n",
       "      <td>6</td>\n",
       "      <td>8</td>\n",
       "      <td>4</td>\n",
       "      <td>1</td>\n",
       "      <td>0</td>\n",
       "      <td>4</td>\n",
       "      <td>2</td>\n",
       "      <td>3</td>\n",
       "      <td>3.5</td>\n",
       "      <td>14.0</td>\n",
       "      <td>0.500</td>\n",
       "      <td>3</td>\n",
       "      <td>27.0</td>\n",
       "    </tr>\n",
       "    <tr>\n",
       "      <th>1693</th>\n",
       "      <td>Royce O'Neale</td>\n",
       "      <td>2020-08-23</td>\n",
       "      <td>27-079</td>\n",
       "      <td>UTA</td>\n",
       "      <td>HOME</td>\n",
       "      <td>DEN</td>\n",
       "      <td>W (+2)</td>\n",
       "      <td>1</td>\n",
       "      <td>36:55</td>\n",
       "      <td>1</td>\n",
       "      <td>3</td>\n",
       "      <td>0.333</td>\n",
       "      <td>1</td>\n",
       "      <td>2</td>\n",
       "      <td>0.500</td>\n",
       "      <td>1</td>\n",
       "      <td>2</td>\n",
       "      <td>0.500</td>\n",
       "      <td>0</td>\n",
       "      <td>5</td>\n",
       "      <td>5</td>\n",
       "      <td>1</td>\n",
       "      <td>0</td>\n",
       "      <td>0</td>\n",
       "      <td>1</td>\n",
       "      <td>5</td>\n",
       "      <td>4</td>\n",
       "      <td>1.1</td>\n",
       "      <td>-12.0</td>\n",
       "      <td>0.515</td>\n",
       "      <td>4</td>\n",
       "      <td>36.0</td>\n",
       "    </tr>\n",
       "    <tr>\n",
       "      <th>1694</th>\n",
       "      <td>Royce O'Neale</td>\n",
       "      <td>2020-08-25</td>\n",
       "      <td>27-081</td>\n",
       "      <td>UTA</td>\n",
       "      <td>AWAY</td>\n",
       "      <td>DEN</td>\n",
       "      <td>L (-10)</td>\n",
       "      <td>1</td>\n",
       "      <td>36:57</td>\n",
       "      <td>4</td>\n",
       "      <td>6</td>\n",
       "      <td>0.667</td>\n",
       "      <td>2</td>\n",
       "      <td>4</td>\n",
       "      <td>0.500</td>\n",
       "      <td>0</td>\n",
       "      <td>0</td>\n",
       "      <td>NaN</td>\n",
       "      <td>1</td>\n",
       "      <td>3</td>\n",
       "      <td>4</td>\n",
       "      <td>3</td>\n",
       "      <td>3</td>\n",
       "      <td>0</td>\n",
       "      <td>4</td>\n",
       "      <td>5</td>\n",
       "      <td>10</td>\n",
       "      <td>8.1</td>\n",
       "      <td>-18.0</td>\n",
       "      <td>0.833</td>\n",
       "      <td>5</td>\n",
       "      <td>36.0</td>\n",
       "    </tr>\n",
       "    <tr>\n",
       "      <th>1695</th>\n",
       "      <td>Royce O'Neale</td>\n",
       "      <td>2020-08-30</td>\n",
       "      <td>27-086</td>\n",
       "      <td>UTA</td>\n",
       "      <td>HOME</td>\n",
       "      <td>DEN</td>\n",
       "      <td>L (-12)</td>\n",
       "      <td>1</td>\n",
       "      <td>38:18</td>\n",
       "      <td>1</td>\n",
       "      <td>4</td>\n",
       "      <td>0.250</td>\n",
       "      <td>1</td>\n",
       "      <td>3</td>\n",
       "      <td>0.333</td>\n",
       "      <td>2</td>\n",
       "      <td>4</td>\n",
       "      <td>0.500</td>\n",
       "      <td>0</td>\n",
       "      <td>3</td>\n",
       "      <td>3</td>\n",
       "      <td>2</td>\n",
       "      <td>1</td>\n",
       "      <td>0</td>\n",
       "      <td>2</td>\n",
       "      <td>3</td>\n",
       "      <td>5</td>\n",
       "      <td>1.9</td>\n",
       "      <td>-3.0</td>\n",
       "      <td>0.434</td>\n",
       "      <td>6</td>\n",
       "      <td>38.0</td>\n",
       "    </tr>\n",
       "    <tr>\n",
       "      <th>1696</th>\n",
       "      <td>Royce O'Neale</td>\n",
       "      <td>2020-09-01</td>\n",
       "      <td>27-088</td>\n",
       "      <td>UTA</td>\n",
       "      <td>AWAY</td>\n",
       "      <td>DEN</td>\n",
       "      <td>L (-2)</td>\n",
       "      <td>1</td>\n",
       "      <td>41:40</td>\n",
       "      <td>2</td>\n",
       "      <td>6</td>\n",
       "      <td>0.333</td>\n",
       "      <td>1</td>\n",
       "      <td>4</td>\n",
       "      <td>0.250</td>\n",
       "      <td>0</td>\n",
       "      <td>0</td>\n",
       "      <td>NaN</td>\n",
       "      <td>0</td>\n",
       "      <td>4</td>\n",
       "      <td>4</td>\n",
       "      <td>1</td>\n",
       "      <td>2</td>\n",
       "      <td>0</td>\n",
       "      <td>1</td>\n",
       "      <td>2</td>\n",
       "      <td>5</td>\n",
       "      <td>3.7</td>\n",
       "      <td>6.0</td>\n",
       "      <td>0.417</td>\n",
       "      <td>7</td>\n",
       "      <td>41.0</td>\n",
       "    </tr>\n",
       "  </tbody>\n",
       "</table>\n",
       "<p>1276 rows × 32 columns</p>\n",
       "</div>"
      ],
      "text/plain": [
       "               NAME        DATE     AGE TEAM HOME/AWAY OPPONENT   RESULT  GS  \\\n",
       "0      Jaylen Brown  2020-08-17  23-298  BOS      HOME      PHI   W (+8)   1   \n",
       "1      Jaylen Brown  2020-08-19  23-300  BOS      HOME      PHI  W (+27)   1   \n",
       "2      Jaylen Brown  2020-08-21  23-302  BOS      AWAY      PHI   W (+8)   1   \n",
       "3      Jaylen Brown  2020-08-23  23-304  BOS      AWAY      PHI   W (+4)   1   \n",
       "4      Jaylen Brown  2020-08-30  23-311  BOS      AWAY      TOR  W (+18)   1   \n",
       "...             ...         ...     ...  ...       ...      ...      ...  ..   \n",
       "1692  Royce O'Neale  2020-08-21  27-077  UTA      HOME      DEN  W (+37)   1   \n",
       "1693  Royce O'Neale  2020-08-23  27-079  UTA      HOME      DEN   W (+2)   1   \n",
       "1694  Royce O'Neale  2020-08-25  27-081  UTA      AWAY      DEN  L (-10)   1   \n",
       "1695  Royce O'Neale  2020-08-30  27-086  UTA      HOME      DEN  L (-12)   1   \n",
       "1696  Royce O'Neale  2020-09-01  27-088  UTA      AWAY      DEN   L (-2)   1   \n",
       "\n",
       "         MP  FG  FGA    FG%  3P  3PA    3P%  FT  FTA    FT%  ORB  DRB  TRB  \\\n",
       "0     38:52   9   16  0.563   5    8  0.625   6    6  1.000    2    4    6   \n",
       "1     28:26   6   13  0.462   2    7  0.286   6    6  1.000    2    3    5   \n",
       "2     41:43   6   16  0.375   1    5  0.200   8    9  0.889    0    7    7   \n",
       "3     41:00   6   15  0.400   2    9  0.222   2    3  0.667    0    5    5   \n",
       "4     31:17   6   18  0.333   3    9  0.333   2    3  0.667    0    5    5   \n",
       "...     ...  ..  ...    ...  ..  ...    ...  ..  ...    ...  ...  ...  ...   \n",
       "1692  27:44   1    3  0.333   1    2  0.500   0    0    NaN    2    6    8   \n",
       "1693  36:55   1    3  0.333   1    2  0.500   1    2  0.500    0    5    5   \n",
       "1694  36:57   4    6  0.667   2    4  0.500   0    0    NaN    1    3    4   \n",
       "1695  38:18   1    4  0.250   1    3  0.333   2    4  0.500    0    3    3   \n",
       "1696  41:40   2    6  0.333   1    4  0.250   0    0    NaN    0    4    4   \n",
       "\n",
       "      AST  STL  BLK  TOV  PF  PTS  GAME_SCORE   +/-    TS%  Games Played  mins  \n",
       "0       4    3    0    2   4   29        26.2  -1.0  0.778             1  38.0  \n",
       "1       1    0    1    0   2   20        16.2  10.0  0.639             2  28.0  \n",
       "2       3    0    0    3   1   21        12.6  10.0  0.526             3  41.0  \n",
       "3       2    1    0    5   3   16         5.2  -2.0  0.490             4  41.0  \n",
       "4       4    0    0    2   5   17         6.7  10.0  0.440             5  31.0  \n",
       "...   ...  ...  ...  ...  ..  ...         ...   ...    ...           ...   ...  \n",
       "1692    4    1    0    4   2    3         3.5  14.0  0.500             3  27.0  \n",
       "1693    1    0    0    1   5    4         1.1 -12.0  0.515             4  36.0  \n",
       "1694    3    3    0    4   5   10         8.1 -18.0  0.833             5  36.0  \n",
       "1695    2    1    0    2   3    5         1.9  -3.0  0.434             6  38.0  \n",
       "1696    1    2    0    1   2    5         3.7   6.0  0.417             7  41.0  \n",
       "\n",
       "[1276 rows x 32 columns]"
      ]
     },
     "execution_count": 509,
     "metadata": {},
     "output_type": "execute_result"
    }
   ],
   "source": [
    "df2 = pd.read_csv('2019-2020 Game Log Playoffs.csv')\n",
    "df2.drop_duplicates(subset=['NAME', 'DATE'], keep='first',inplace=True)\n",
    "df2 = df2.drop(df2.columns[[0]], axis = 1)\n",
    "cols2 = df2.columns.tolist()\n",
    "cols2 = cols2[-1:] + cols2[:-1]\n",
    "df2 = df2[cols2]\n",
    "pd.set_option('display.max_columns', None)\n",
    "df2['TS%'] = round(df2['PTS']/(2*(df2['FGA']+0.44*df2['FTA'])),3)\n",
    "df2['Games Played'] = df2.groupby('NAME').cumcount() + 1\n",
    "#Only looking at data of players who played significant time\n",
    "df2['mins'] = df2['MP'].apply(lambda x: x.split(\":\")[0])\n",
    "df2['mins'] = df2['mins'].astype(float)\n",
    "df2 = df2[df2['mins']>12]\n",
    "df2"
   ]
  },
  {
   "cell_type": "code",
   "execution_count": 510,
   "metadata": {
    "scrolled": false
   },
   "outputs": [
    {
     "data": {
      "image/png": "[encoded data removed]",
      "text/plain": [
       "<Figure size 504x504 with 1 Axes>"
      ]
     },
     "metadata": {
      "needs_background": "light"
     },
     "output_type": "display_data"
    }
   ],
   "source": [
    "labels = ['']\n",
    "x=np.arange(len(labels))\n",
    "width=0.35\n",
    "\n",
    "pts1 = round(np.mean(df['PTS']),2)\n",
    "pts2 = round(np.mean(df2['PTS']),2)\n",
    "\n",
    "fig, ax = plt.subplots(figsize=(7,7))\n",
    "\n",
    "rects1 = ax.bar(x-width/2,pts1, width, color='tab:blue',label='2019')\n",
    "rects2 = ax.bar(x+width/2,pts2, width, color='tab:orange',label='2020')\n",
    "\n",
    "ax.set_ylabel('Average Points')\n",
    "ax.set_title('Average Points in the Post-Season')\n",
    "ax.set_xticks(x)\n",
    "ax.set_xticklabels(labels)\n",
    "ax.legend()\n",
    "\n",
    "def autolabel(rects):\n",
    "    \"\"\"Attach a text label above each bar in *rects*, displaying its height.\"\"\"\n",
    "    for rect in rects:\n",
    "        height = rect.get_height()\n",
    "        ax.annotate('{}'.format(height),\n",
    "                    xy=(rect.get_x() + rect.get_width() / 2, height),\n",
    "                    xytext=(0, 3),  # 3 points vertical offset\n",
    "                    textcoords=\"offset points\",\n",
    "                    ha='center', va='bottom')\n",
    "\n",
    "\n",
    "autolabel(rects1)\n",
    "autolabel(rects2)\n",
    "\n",
    "\n",
    "\n",
    "fig.tight_layout()\n",
    "plt.show()\n"
   ]
  },
  {
   "cell_type": "code",
   "execution_count": 516,
   "metadata": {
    "scrolled": false
   },
   "outputs": [
    {
     "data": {
      "image/png": "[encoded data removed]",
      "text/plain": [
       "<Figure size 504x504 with 1 Axes>"
      ]
     },
     "metadata": {
      "needs_background": "light"
     },
     "output_type": "display_data"
    }
   ],
   "source": [
    "labels = ['']\n",
    "x=np.arange(len(labels))\n",
    "width=0.35\n",
    "\n",
    "fg1 = round(np.mean(df['FG%']),4)\n",
    "fg2 = round(np.mean(df2['FG%']),4)\n",
    "\n",
    "fig, ax = plt.subplots(figsize=(7,7))\n",
    "\n",
    "rects1 = ax.bar(x-width/2,fg1, width, color='tab:blue',label='2019')\n",
    "rects2 = ax.bar(x+width/2,fg2, width, color='tab:orange',label='2020')\n",
    "\n",
    "ax.set_ylabel('Average FG%')\n",
    "ax.set_title('Average FG% in the Post-Season')\n",
    "ax.set_xticks(x)\n",
    "ax.set_xticklabels(labels)\n",
    "ax.legend(loc=3)\n",
    "\n",
    "def autolabel(rects):\n",
    "    \"\"\"Attach a text label above each bar in *rects*, displaying its height.\"\"\"\n",
    "    for rect in rects:\n",
    "        height = rect.get_height()\n",
    "        ax.annotate('{}'.format(height),\n",
    "                    xy=(rect.get_x() + rect.get_width() / 2, height),\n",
    "                    xytext=(0, 3),  # 3 points vertical offset\n",
    "                    textcoords=\"offset points\",\n",
    "                    ha='center', va='bottom')\n",
    "\n",
    "\n",
    "autolabel(rects1)\n",
    "autolabel(rects2)\n",
    "\n",
    "\n",
    "\n",
    "fig.tight_layout()\n",
    "plt.show()\n"
   ]
  },
  {
   "cell_type": "code",
   "execution_count": 504,
   "metadata": {
    "scrolled": false
   },
   "outputs": [
    {
     "data": {
      "image/png": "[encoded data removed]",
      "text/plain": [
       "<Figure size 1080x504 with 2 Axes>"
      ]
     },
     "metadata": {
      "needs_background": "light"
     },
     "output_type": "display_data"
    }
   ],
   "source": [
    "df = df[df['mins']>12]\n",
    "df2 = df2[df2['mins']>12] \n",
    "pts = np.array(df['PTS'])\n",
    "mean = np.mean(pts)\n",
    "count = len(df[df['mins']>12])\n",
    "\n",
    "\n",
    "pts2 = np.array(df2['PTS'])\n",
    "mean2 = np.mean(pts)\n",
    "count2 = len(df2[df2['mins']>12])\n",
    "\n",
    "fig, (ax1,ax2) = plt.subplots(1,2,figsize=(15,7))\n",
    "\n",
    "#df1\n",
    "ax1.hist(pts,bins=25,color='tab:orange')\n",
    "ax1.set_ylabel('Distribution')\n",
    "ax1.set_xlabel('Points Scored')\n",
    "ax1.set_title('2019 Playoffs', fontsize='xx-large')\n",
    "ax1.set_ylim(0,150)\n",
    "ax1.axvline(pts.mean(), color='k', linestyle='dashed', linewidth=3, alpha=0.5)\n",
    "ax1.text(pts.mean()*1.5, 100, 'Avg Points: {:.2f}\\nCount: {}'.format(pts.mean(),count),bbox=dict(facecolor='orange', alpha=0.5),fontsize=15)\n",
    "\n",
    "\n",
    "#df2\n",
    "ax2.hist(pts2,bins=25,color='tab:orange')\n",
    "ax2.set_ylabel('Distribution')\n",
    "ax2.set_xlabel('Points Scored')\n",
    "ax2.set_title('2020 Playoffs', fontsize='xx-large')\n",
    "ax2.set_ylim(0,150)\n",
    "ax2.axvline(pts2.mean(), color='k', linestyle='dashed', linewidth=3, alpha=0.5)\n",
    "ax2.text(pts2.mean()*1.5, 100, 'Avg Points: {:.2f}\\nCount: {}'.format(pts2.mean(),count2),bbox=dict(facecolor='orange', alpha=0.5),fontsize=15)\n",
    "\n",
    "\n",
    "fig.tight_layout()\n",
    "\n",
    "# Takeaway: More instances of players playing over 12 mins in the Bubble environment, \n",
    "# with a higher average Points Scored\n",
    "\n"
   ]
  },
  {
   "cell_type": "code",
   "execution_count": 503,
   "metadata": {},
   "outputs": [
    {
     "data": {
      "image/png": "[encoded data removed]",
      "text/plain": [
       "<Figure size 1080x504 with 2 Axes>"
      ]
     },
     "metadata": {
      "needs_background": "light"
     },
     "output_type": "display_data"
    }
   ],
   "source": [
    "gs = np.array(df['GAME_SCORE'])\n",
    "mean = np.mean(gs)\n",
    "count = len(df)\n",
    "\n",
    "\n",
    "gs2 = np.array(df2['GAME_SCORE'])\n",
    "mean2 = np.mean(gs2)\n",
    "count2 = len(df2)\n",
    "\n",
    "fig, (ax1,ax2) = plt.subplots(1,2,figsize=(15,7))\n",
    "\n",
    "#df1\n",
    "ax1.hist(gs,bins=25,color='tab:orange')\n",
    "ax1.set_ylabel('Distribution')\n",
    "ax1.set_xlabel('Game Score')\n",
    "ax1.set_title('2019 Playoffs', fontsize='xx-large')\n",
    "#ax1.set_ylim(0,150)\n",
    "ax1.axvline(gs.mean(), color='k', linestyle='dashed', linewidth=3, alpha=0.5)\n",
    "ax1.text(gs.mean()*1.5, 100, 'Avg Game Score: {:.2f}\\nCount: {}'.format(gs.mean(),count),bbox=dict(facecolor='orange', alpha=0.5),fontsize=15)\n",
    "\n",
    "\n",
    "#df2\n",
    "ax2.hist(gs2,bins=25,color='tab:orange')\n",
    "ax2.set_ylabel('Distribution')\n",
    "ax2.set_xlabel('Game Score')\n",
    "ax2.set_title('2020 Playoffs', fontsize='xx-large')\n",
    "#ax2.set_ylim(0,150)\n",
    "ax2.axvline(gs2.mean(), color='k', linestyle='dashed', linewidth=3, alpha=0.5)\n",
    "ax2.text(gs2.mean()*1.5, 100, 'Avg Game Score: {:.2f}\\nCount: {}'.format(gs2.mean(),count2),bbox=dict(facecolor='orange', alpha=0.5),fontsize=15)\n",
    "\n",
    "\n",
    "fig.tight_layout()\n",
    "\n",
    "# Takeaway: \n",
    "\n"
   ]
  },
  {
   "cell_type": "code",
   "execution_count": 361,
   "metadata": {
    "scrolled": false
   },
   "outputs": [
    {
     "data": {
      "text/plain": [
       "{'whiskers': [<matplotlib.lines.Line2D at 0x1a24588510>,\n",
       "  <matplotlib.lines.Line2D at 0x1a24588950>,\n",
       "  <matplotlib.lines.Line2D at 0x1a2459f310>,\n",
       "  <matplotlib.lines.Line2D at 0x1a2459f6d0>],\n",
       " 'caps': [<matplotlib.lines.Line2D at 0x1a24588d90>,\n",
       "  <matplotlib.lines.Line2D at 0x1a24593210>,\n",
       "  <matplotlib.lines.Line2D at 0x1a2459fad0>,\n",
       "  <matplotlib.lines.Line2D at 0x1a2459fed0>],\n",
       " 'boxes': [<matplotlib.lines.Line2D at 0x1a24588150>,\n",
       "  <matplotlib.lines.Line2D at 0x1a24593ed0>],\n",
       " 'medians': [<matplotlib.lines.Line2D at 0x1a24593690>,\n",
       "  <matplotlib.lines.Line2D at 0x1a24a6f310>],\n",
       " 'fliers': [<matplotlib.lines.Line2D at 0x1a24593a90>,\n",
       "  <matplotlib.lines.Line2D at 0x1a24a6f710>],\n",
       " 'means': []}"
      ]
     },
     "execution_count": 361,
     "metadata": {},
     "output_type": "execute_result"
    },
    {
     "data": {
      "image/png": "[encoded data removed]",
      "text/plain": [
       "<Figure size 504x504 with 1 Axes>"
      ]
     },
     "metadata": {
      "needs_background": "light"
     },
     "output_type": "display_data"
    }
   ],
   "source": [
    "#Box Plot\n",
    "fig, ax = plt.subplots()\n",
    "ax.boxplot([pts,pts2], vert=False)"
   ]
  },
  {
   "cell_type": "code",
   "execution_count": 282,
   "metadata": {
    "scrolled": false
   },
   "outputs": [
    {
     "data": {
      "image/png": "[encoded data removed]",
      "text/plain": [
       "<Figure size 504x504 with 1 Axes>"
      ]
     },
     "metadata": {
      "needs_background": "light"
     },
     "output_type": "display_data"
    }
   ],
   "source": [
    "from  matplotlib.colors import LinearSegmentedColormap\n",
    "c = [\"firebrick\",\"indianred\",\"darkorange\",\"khaki\", \"yellowgreen\",\"mediumseagreen\",\"darkgreen\"]\n",
    "v = [0,.15,.4,.5,0.6,.9,1.]\n",
    "l = list(zip(v,c))\n",
    "cmap=LinearSegmentedColormap.from_list('rg',l, N=256)\n",
    "\n",
    " \n",
    "plt.imshow( data , cmap = cmap , interpolation = 'nearest' ) \n",
    "  \n",
    "plt.title( \"2-D Heat Map\" ) \n",
    "plt.show() "
   ]
  },
  {
   "cell_type": "code",
   "execution_count": 514,
   "metadata": {
    "scrolled": false
   },
   "outputs": [
    {
     "data": {
      "image/png": "[encoded data removed]",
      "text/plain": [
       "<Figure size 864x504 with 2 Axes>"
      ]
     },
     "metadata": {
      "needs_background": "light"
     },
     "output_type": "display_data"
    }
   ],
   "source": [
    "#True Shooting Over the Course of the Playoffs\n",
    "fig, ax1 = plt.subplots(figsize=(12,7))\n",
    "x = df.groupby(['Games Played']).size().reset_index()\n",
    "x.columns = ['GP','Count']\n",
    "gp_num = df.groupby(['Games Played']).size()\n",
    "\n",
    "ts = df.groupby(['Games Played']).aggregate(np.mean)['TS%']\n",
    "\n",
    "\n",
    "color = 'tab:red'\n",
    "ax1.set_ylim(0.46,0.66)\n",
    "ax1.set_xlabel('Games Played in 2019 Playoffs')\n",
    "ax1.set_ylabel('TS%', color=color)\n",
    "ax1.plot(x['GP'], ts, color=color)\n",
    "ax1.tick_params(axis='y', labelcolor=color)\n",
    "ax1.axhline(ts.mean(), color='k', linestyle='dashed', linewidth=3, alpha=0.5)\n",
    "\n",
    "ax2 = ax1.twinx()  # instantiate a second axes that shares the same x-axis\n",
    "\n",
    "color2 = 'tab:blue'\n",
    "ax2.set_ylabel('Frequency', color=color2)  # we already handled the x-label with ax1\n",
    "ax2.bar(x['GP'], gp_num, color=color2,alpha=0.3)\n",
    "ax2.tick_params(axis='y', labelcolor=color2)\n",
    "\n",
    "fig.tight_layout()  # otherwise the right y-label is slightly clipped\n",
    "ax1.set_zorder(1)  # default zorder is 0 for ax1 and ax2\n",
    "ax1.patch.set_visible(False)  # prevents ax1 from hiding ax2\n",
    "plt.show()"
   ]
  },
  {
   "cell_type": "code",
   "execution_count": 494,
   "metadata": {
    "scrolled": false
   },
   "outputs": [
    {
     "data": {
      "image/png": "[encoded data removed]",
      "text/plain": [
       "<Figure size 864x504 with 2 Axes>"
      ]
     },
     "metadata": {
      "needs_background": "light"
     },
     "output_type": "display_data"
    }
   ],
   "source": [
    "#True Shooting Over the Course of the Playoffs\n",
    "fig, ax1 = plt.subplots(figsize=(12,7))\n",
    "x2 = df2.groupby(['Games Played']).size().reset_index()\n",
    "x2.columns = ['GP','Count']\n",
    "gp_num2 = df2.groupby(['Games Played']).size()\n",
    "\n",
    "ts2 = df2.groupby(['Games Played']).aggregate(np.mean)['TS%']\n",
    "\n",
    "\n",
    "color = 'tab:red'\n",
    "ax1.set_ylim(0.46,0.66)\n",
    "ax1.set_xlabel('Games Played in 2020 Playoffs')\n",
    "ax1.set_ylabel('TS%', color=color)\n",
    "ax1.plot(x2['GP'], ts2, color=color)\n",
    "ax1.tick_params(axis='y', labelcolor=color)\n",
    "ax1.axhline(ts2.mean(), color='k', linestyle='dashed', linewidth=3, alpha=0.5)\n",
    "\n",
    "ax2 = ax1.twinx()  # instantiate a second axes that shares the same x-axis\n",
    "\n",
    "color2 = 'tab:blue'\n",
    "ax2.set_ylabel('Count of Games Played', color=color2)  # we already handled the x-label with ax1\n",
    "ax2.bar(x2['GP'], gp_num2, color=color2,alpha=0.5)\n",
    "ax2.tick_params(axis='y', labelcolor=color2)\n",
    "\n",
    "fig.tight_layout()  # otherwise the right y-label is slightly clipped\n",
    "ax1.set_zorder(1)  # default zorder is 0 for ax1 and ax2\n",
    "ax1.patch.set_visible(False)  # prevents ax1 from hiding ax2\n",
    "plt.show()"
   ]
  },
  {
   "cell_type": "markdown",
   "metadata": {},
   "source": [
    "# Home Advantage: Regular Season '20 vs Playoffs '20"
   ]
  },
  {
   "cell_type": "code",
   "execution_count": 711,
   "metadata": {},
   "outputs": [],
   "source": [
    "df3 = pd.read_csv('2019-2020 Game Log.csv')\n",
    "df3 = df3.drop(df3.columns[[0]], axis = 1)\n",
    "cols3 = df3.columns.tolist()\n",
    "cols3 = cols3[-1:] + cols3[:-1]\n",
    "df3 = df3[cols3]\n",
    "pd.set_option('display.max_columns', None)\n",
    "df3;"
   ]
  },
  {
   "cell_type": "code",
   "execution_count": 709,
   "metadata": {},
   "outputs": [
    {
     "data": {
      "text/html": [
       "<div>\n",
       "<style scoped>\n",
       "    .dataframe tbody tr th:only-of-type {\n",
       "        vertical-align: middle;\n",
       "    }\n",
       "\n",
       "    .dataframe tbody tr th {\n",
       "        vertical-align: top;\n",
       "    }\n",
       "\n",
       "    .dataframe thead th {\n",
       "        text-align: right;\n",
       "    }\n",
       "</style>\n",
       "<table border=\"1\" class=\"dataframe\">\n",
       "  <thead>\n",
       "    <tr style=\"text-align: right;\">\n",
       "      <th></th>\n",
       "      <th></th>\n",
       "      <th>HOME/AWAY</th>\n",
       "      <th>RESULT</th>\n",
       "      <th>MARGIN</th>\n",
       "    </tr>\n",
       "    <tr>\n",
       "      <th>TEAM</th>\n",
       "      <th>DATE</th>\n",
       "      <th></th>\n",
       "      <th></th>\n",
       "      <th></th>\n",
       "    </tr>\n",
       "  </thead>\n",
       "  <tbody>\n",
       "    <tr>\n",
       "      <th rowspan=\"5\" valign=\"top\">ATL</th>\n",
       "      <th>2019-10-24</th>\n",
       "      <td>AWAY</td>\n",
       "      <td>W</td>\n",
       "      <td>+17</td>\n",
       "    </tr>\n",
       "    <tr>\n",
       "      <th>2019-10-26</th>\n",
       "      <td>HOME</td>\n",
       "      <td>W</td>\n",
       "      <td>+4</td>\n",
       "    </tr>\n",
       "    <tr>\n",
       "      <th>2019-10-28</th>\n",
       "      <td>HOME</td>\n",
       "      <td>L</td>\n",
       "      <td>-2</td>\n",
       "    </tr>\n",
       "    <tr>\n",
       "      <th>2019-10-29</th>\n",
       "      <td>AWAY</td>\n",
       "      <td>L</td>\n",
       "      <td>-15</td>\n",
       "    </tr>\n",
       "    <tr>\n",
       "      <th>2019-10-31</th>\n",
       "      <td>HOME</td>\n",
       "      <td>L</td>\n",
       "      <td>-9</td>\n",
       "    </tr>\n",
       "    <tr>\n",
       "      <th>...</th>\n",
       "      <th>...</th>\n",
       "      <td>...</td>\n",
       "      <td>...</td>\n",
       "      <td>...</td>\n",
       "    </tr>\n",
       "    <tr>\n",
       "      <th rowspan=\"5\" valign=\"top\">WAS</th>\n",
       "      <th>2020-08-05</th>\n",
       "      <td>HOME</td>\n",
       "      <td>L</td>\n",
       "      <td>-9</td>\n",
       "    </tr>\n",
       "    <tr>\n",
       "      <th>2020-08-07</th>\n",
       "      <td>AWAY</td>\n",
       "      <td>L</td>\n",
       "      <td>-11</td>\n",
       "    </tr>\n",
       "    <tr>\n",
       "      <th>2020-08-09</th>\n",
       "      <td>AWAY</td>\n",
       "      <td>L</td>\n",
       "      <td>-18</td>\n",
       "    </tr>\n",
       "    <tr>\n",
       "      <th>2020-08-11</th>\n",
       "      <td>HOME</td>\n",
       "      <td>L</td>\n",
       "      <td>-13</td>\n",
       "    </tr>\n",
       "    <tr>\n",
       "      <th>2020-08-13</th>\n",
       "      <td>AWAY</td>\n",
       "      <td>W</td>\n",
       "      <td>+6</td>\n",
       "    </tr>\n",
       "  </tbody>\n",
       "</table>\n",
       "<p>2085 rows × 3 columns</p>\n",
       "</div>"
      ],
      "text/plain": [
       "                HOME/AWAY RESULT MARGIN\n",
       "TEAM DATE                              \n",
       "ATL  2019-10-24      AWAY      W    +17\n",
       "     2019-10-26      HOME      W     +4\n",
       "     2019-10-28      HOME      L     -2\n",
       "     2019-10-29      AWAY      L    -15\n",
       "     2019-10-31      HOME      L     -9\n",
       "...                   ...    ...    ...\n",
       "WAS  2020-08-05      HOME      L     -9\n",
       "     2020-08-07      AWAY      L    -11\n",
       "     2020-08-09      AWAY      L    -18\n",
       "     2020-08-11      HOME      L    -13\n",
       "     2020-08-13      AWAY      W     +6\n",
       "\n",
       "[2085 rows x 3 columns]"
      ]
     },
     "execution_count": 709,
     "metadata": {},
     "output_type": "execute_result"
    }
   ],
   "source": [
    "#Game Log of 2019 Games with Home/Away, Result, and Margin\n",
    "glog_19 = df3.groupby(['TEAM','DATE']).first()\n",
    "#glog_19 = wlog_19.set_index(['TEAM','DATE'])\n",
    "glog_19 = glog_19[['HOME/AWAY','RESULT']]\n",
    "glog_19['MARGIN'] = glog_19['RESULT'].apply(lambda x: x.split(\"(\")[1])\n",
    "glog_19['MARGIN'] = glog_19['MARGIN'].apply(lambda x: x.split(\")\")[0])\n",
    "glog_19['RESULT'] = glog_19['RESULT'].apply(lambda x: x.split(\" \")[0])\n",
    "glog_19"
   ]
  },
  {
   "cell_type": "code",
   "execution_count": 655,
   "metadata": {
    "scrolled": true
   },
   "outputs": [
    {
     "data": {
      "text/plain": [
       "12.267605633802816"
      ]
     },
     "execution_count": 655,
     "metadata": {},
     "output_type": "execute_result"
    }
   ],
   "source": [
    "#binomial\n",
    "wlog_19 = glog_19[glog_19['HOME/AWAY']=='HOME']\n",
    "wlog_19 = wlog_19[wlog_19['RESULT']=='W']\n",
    "wlog_19 = wlog_19['MARGIN'].apply(lambda x: x.split(\"+\")[1])\n",
    "wlog_19 = wlog_19.astype(float)\n",
    "wlog_19.mean()"
   ]
  },
  {
   "cell_type": "code",
   "execution_count": 654,
   "metadata": {},
   "outputs": [
    {
     "data": {
      "text/plain": [
       "10.394004282655246"
      ]
     },
     "execution_count": 654,
     "metadata": {},
     "output_type": "execute_result"
    }
   ],
   "source": [
    "#AWAY WINS, REG SEASON 2020\n",
    "wlog2_19 = glog_19[glog_19['HOME/AWAY']=='AWAY']\n",
    "wlog2_19 = wlog2_19[wlog2_19['RESULT']=='W']\n",
    "wlog2_19 = wlog2_19['MARGIN'].apply(lambda x: x.split(\"+\")[1])\n",
    "wlog2_19 = wlog2_19.astype(float)\n",
    "wlog2_19.mean()"
   ]
  },
  {
   "cell_type": "code",
   "execution_count": 599,
   "metadata": {},
   "outputs": [
    {
     "data": {
      "text/plain": [
       "-10.362869198312236"
      ]
     },
     "execution_count": 599,
     "metadata": {},
     "output_type": "execute_result"
    }
   ],
   "source": [
    "llog_19 = glog_19[glog_19['HOME/AWAY']=='HOME']\n",
    "llog_19 = llog_19[llog_19['RESULT']=='L']\n",
    "llog_19 = llog_19['MARGIN']\n",
    "llog_19 = llog_19.astype('float')\n",
    "llog_19.mean()"
   ]
  },
  {
   "cell_type": "code",
   "execution_count": 615,
   "metadata": {},
   "outputs": [
    {
     "data": {
      "text/plain": [
       "-12.23611111111111"
      ]
     },
     "execution_count": 615,
     "metadata": {},
     "output_type": "execute_result"
    }
   ],
   "source": [
    "#AWAY LOSSES, REG SEASON 2020\n",
    "llog2_19 = glog_19[glog_19['HOME/AWAY']=='AWAY']\n",
    "llog2_19 = llog2_19[llog2_19['RESULT']=='L']\n",
    "llog2_19 = llog2_19['MARGIN']\n",
    "llog2_19 = llog2_19.astype('float')\n",
    "llog2_19.mean()"
   ]
  },
  {
   "cell_type": "code",
   "execution_count": 662,
   "metadata": {},
   "outputs": [
    {
     "data": {
      "text/plain": [
       "1.9731285988483684"
      ]
     },
     "execution_count": 662,
     "metadata": {},
     "output_type": "execute_result"
    }
   ],
   "source": [
    "log_19 = wlog_19.add(llog_19,fill_value=0)\n",
    "log_19.mean()\n"
   ]
  },
  {
   "cell_type": "code",
   "execution_count": 666,
   "metadata": {},
   "outputs": [
    {
     "data": {
      "text/plain": [
       "-2.103547459252157"
      ]
     },
     "execution_count": 666,
     "metadata": {},
     "output_type": "execute_result"
    }
   ],
   "source": [
    "log2_19 = wlog2_19.add(llog2_19,fill_value=0)\n",
    "log2_19.mean()"
   ]
  },
  {
   "cell_type": "code",
   "execution_count": 691,
   "metadata": {},
   "outputs": [
    {
     "data": {
      "image/png": "[encoded data removed]",
      "text/plain": [
       "<Figure size 864x504 with 2 Axes>"
      ]
     },
     "metadata": {
      "needs_background": "light"
     },
     "output_type": "display_data"
    }
   ],
   "source": [
    "#Higher Win Rate at Home, normal distribution\n",
    "#Sample would be Home and Margin\n",
    "fig, axs = plt.subplots(1,2, figsize=(12,7))\n",
    "axs[0].set_ylim(0,75)\n",
    "axs[0].set_xlabel('Margin of Victory for HOME Games')\n",
    "axs[0].hist(wlog_19,bins=25,color='steelblue')\n",
    "axs[0].hist(llog_19,bins=25,color='firebrick')\n",
    "axs[0].axvline(log_19.mean(), color='k', linestyle='dashed', linewidth=3, alpha=0.5)\n",
    "axs[0].text(log_19.mean()*1.5, 77, 'Avg Margin: {:.2f}'.format(log_19.mean()),bbox=dict(facecolor='orange', alpha=0.5),fontsize=15)\n",
    "\n",
    "axs[1].set_ylim(0,75)\n",
    "axs[1].set_xlabel('Margin of Victory for AWAY Games')\n",
    "axs[1].hist(wlog2_19,bins=25,color='steelblue', alpha=0.5)\n",
    "axs[1].hist(llog2_19,bins=25,color='firebrick',alpha=0.5)\n",
    "axs[1].axvline(log2_19.mean(), color='k', linestyle='dashed', linewidth=3, alpha=0.5)\n",
    "axs[1].text(log2_19.mean()*1.5, 77, 'Avg Margin: {:.2f}'.format(log2_19.mean()),bbox=dict(facecolor='orange', alpha=0.5),fontsize=15)\n",
    "\n",
    "\n",
    "fig.tight_layout()\n"
   ]
  },
  {
   "cell_type": "markdown",
   "metadata": {},
   "source": [
    "# 2020 Playoff Game Log"
   ]
  },
  {
   "cell_type": "code",
   "execution_count": 733,
   "metadata": {},
   "outputs": [],
   "source": [
    "#2019-2020 Playoff Log\n",
    "df4 = pd.read_csv('2019-2020 Game Log Playoffs.csv')\n",
    "df4 = df4.loc[:, ~df4.columns.str.contains('^Unnamed')]\n",
    "#df4 = df4.drop(df4.columns[[0]], axis = 1)\n",
    "cols4 = df4.columns.tolist()\n",
    "cols4 = cols4[-1:] + cols4[:-1]\n",
    "df4 = df4[cols4]\n",
    "pd.set_option('display.max_columns', None)\n",
    "df4;"
   ]
  },
  {
   "cell_type": "code",
   "execution_count": 692,
   "metadata": {
    "scrolled": false
   },
   "outputs": [],
   "source": [
    "#Game Log of 2020 Games with Home/Away, Result, and Margin\n",
    "glog_20 = df4.groupby(['TEAM','DATE']).first()\n",
    "#glog_19 = wlog_19.set_index(['TEAM','DATE'])\n",
    "glog_20 = glog_20[['HOME/AWAY','RESULT']]\n",
    "glog_20['MARGIN'] = glog_20['RESULT'].apply(lambda x: x.split(\"(\")[1])\n",
    "glog_20['MARGIN'] = glog_20['MARGIN'].apply(lambda x: x.split(\")\")[0])\n",
    "glog_20['RESULT'] = glog_20['RESULT'].apply(lambda x: x.split(\" \")[0])\n",
    "glog_20;"
   ]
  },
  {
   "cell_type": "code",
   "execution_count": 610,
   "metadata": {},
   "outputs": [
    {
     "data": {
      "text/plain": [
       "13.1"
      ]
     },
     "execution_count": 610,
     "metadata": {},
     "output_type": "execute_result"
    }
   ],
   "source": [
    "#Home Wins Log for 2020 Playoffs\n",
    "#binomial\n",
    "wlog_20 = glog_20[glog_20['HOME/AWAY']=='HOME']\n",
    "wlog_20 = wlog_20[wlog_20['RESULT']=='W']\n",
    "wlog_20 = wlog_20['MARGIN'].apply(lambda x: x.split(\"+\")[1])\n",
    "wlog_20 = wlog_20.astype(int)\n",
    "wlog_20.mean()"
   ]
  },
  {
   "cell_type": "code",
   "execution_count": 695,
   "metadata": {},
   "outputs": [
    {
     "data": {
      "text/plain": [
       "-10.255813953488373"
      ]
     },
     "execution_count": 695,
     "metadata": {},
     "output_type": "execute_result"
    }
   ],
   "source": [
    "#Home Losses Log for 2020 Playoffs\n",
    "llog_20 = glog_20[glog_20['HOME/AWAY']=='HOME']\n",
    "llog_20 = llog_20[llog_20['RESULT']=='L']\n",
    "llog_20 = llog_20['MARGIN']\n",
    "llog_20 = llog_20.astype('float')\n",
    "llog_20.mean()"
   ]
  },
  {
   "cell_type": "code",
   "execution_count": 694,
   "metadata": {},
   "outputs": [
    {
     "data": {
      "text/plain": [
       "10.255813953488373"
      ]
     },
     "execution_count": 694,
     "metadata": {},
     "output_type": "execute_result"
    }
   ],
   "source": [
    "#Away Wins Log for 2020 Playoffs\n",
    "wlog2_20 = glog_20[glog_20['HOME/AWAY']=='AWAY']\n",
    "wlog2_20 = wlog2_20[wlog2_20['RESULT']=='W']\n",
    "wlog2_20 = wlog2_20['MARGIN'].apply(lambda x: x.split(\"+\")[1])\n",
    "wlog2_20 = wlog2_20.astype(int)\n",
    "wlog2_20.mean()"
   ]
  },
  {
   "cell_type": "code",
   "execution_count": 699,
   "metadata": {},
   "outputs": [
    {
     "data": {
      "text/plain": [
       "-13.1"
      ]
     },
     "execution_count": 699,
     "metadata": {},
     "output_type": "execute_result"
    }
   ],
   "source": [
    "#Away Losses Log for 2020 Playoffs\n",
    "llog2_20 = glog_20[glog_20['HOME/AWAY']=='AWAY']\n",
    "llog2_20 = llog2_20[llog2_20['RESULT']=='L']\n",
    "llog2_20 = llog2_20['MARGIN']\n",
    "llog2_20 = llog2_20.astype('float')\n",
    "llog2_20.mean()"
   ]
  },
  {
   "cell_type": "code",
   "execution_count": 708,
   "metadata": {},
   "outputs": [
    {
     "data": {
      "text/plain": [
       "0.0"
      ]
     },
     "execution_count": 708,
     "metadata": {},
     "output_type": "execute_result"
    }
   ],
   "source": [
    "#Home W/L 2020 Playoffs\n",
    "log_20 = wlog_20.add(llog_20,fill_value=0)\n",
    "log_20.mean()"
   ]
  },
  {
   "cell_type": "code",
   "execution_count": 707,
   "metadata": {},
   "outputs": [
    {
     "data": {
      "text/plain": [
       "-1.0"
      ]
     },
     "execution_count": 707,
     "metadata": {},
     "output_type": "execute_result"
    }
   ],
   "source": [
    "#Away W/L\n",
    "log2_20 = wlog2_20.add(llog2_20,fill_value=0)\n",
    "log2_20.mean()"
   ]
  },
  {
   "cell_type": "code",
   "execution_count": 714,
   "metadata": {
    "scrolled": false
   },
   "outputs": [
    {
     "data": {
      "image/png": "[encoded data removed]",
      "text/plain": [
       "<Figure size 864x504 with 2 Axes>"
      ]
     },
     "metadata": {
      "needs_background": "light"
     },
     "output_type": "display_data"
    }
   ],
   "source": [
    "#Higher Win Rate at Home, normal distribution\n",
    "#Sample would be Home and Margin\n",
    "fig, axs = plt.subplots(1,2, figsize=(12,7))\n",
    "#axs[0].set_ylim(0,75)\n",
    "axs[0].set_xlabel('Margin of Victory for HOME Games')\n",
    "axs[0].hist(wlog_20,bins=10,color='steelblue')\n",
    "axs[0].hist(llog_20,bins=10,color='firebrick')\n",
    "axs[0].axvline(log_20.mean(), color='k', linestyle='dashed', linewidth=3, alpha=0.5)\n",
    "axs[0].text(log_20.mean()*1.5, 11, 'Avg Margin: {:.2f}'.format(log_20.mean()),bbox=dict(facecolor='orange', alpha=0.5),fontsize=15)\n",
    "\n",
    "#axs[1].set_ylim(0,75)\n",
    "axs[1].set_xlabel('Margin of Victory for AWAY Games')\n",
    "axs[1].hist(wlog2_20,bins=10,color='steelblue', alpha=0.5)\n",
    "axs[1].hist(llog2_20,bins=10,color='firebrick',alpha=0.5)\n",
    "axs[1].axvline(log2_20.mean(), color='k', linestyle='dashed', linewidth=3, alpha=0.5)\n",
    "axs[1].text(log2_20.mean()*1.5, 11, 'Avg Margin: {:.2f}'.format(log2_20.mean()),bbox=dict(facecolor='orange', alpha=0.5),fontsize=15)\n",
    "\n",
    "\n",
    "fig.tight_layout()"
   ]
  },
  {
   "cell_type": "markdown",
   "metadata": {},
   "source": [
    "# 2019 Playoff Game Log"
   ]
  },
  {
   "cell_type": "code",
   "execution_count": 737,
   "metadata": {},
   "outputs": [],
   "source": [
    "#2018-2019 Playoff Log\n",
    "p19 = pd.read_csv('2018-2019 Game Log Playoffs.csv')\n",
    "p19 = p19.loc[:, ~p19.columns.str.contains('^Unnamed')]\n",
    "#p19 = p19.drop(p19.columns[[1]], axis = 1)\n",
    "cols5 = p19.columns.tolist()\n",
    "cols5 = cols5[-1:] + cols5[:-1]\n",
    "p19 = p19[cols5]\n",
    "pd.set_option('display.max_columns', None)\n",
    "p19;"
   ]
  },
  {
   "cell_type": "code",
   "execution_count": 750,
   "metadata": {},
   "outputs": [],
   "source": [
    "#Game Log of 2019 Games with Home/Away, Result, and Margin\n",
    "plog_19 = p19.groupby(['TEAM','DATE']).first()\n",
    "#glog_19 = wlog_19.set_index(['TEAM','DATE'])\n",
    "plog_19 = plog_19[['HOME/AWAY','RESULT']]\n",
    "plog_19['MARGIN'] = plog_19['RESULT'].apply(lambda x: x.split(\"(\")[1])\n",
    "plog_19['MARGIN'] = plog_19['MARGIN'].apply(lambda x: x.split(\")\")[0])\n",
    "plog_19['RESULT'] = plog_19['RESULT'].apply(lambda x: x.split(\" \")[0])\n",
    "plog_19;"
   ]
  },
  {
   "cell_type": "code",
   "execution_count": 764,
   "metadata": {},
   "outputs": [
    {
     "data": {
      "text/plain": [
       "14.152173913043478"
      ]
     },
     "execution_count": 764,
     "metadata": {},
     "output_type": "execute_result"
    }
   ],
   "source": [
    "#Home Wins Log for 2019 Playoffs\n",
    "#binomial\n",
    "pwlog_19 = plog_19[plog_19['HOME/AWAY']=='HOME']\n",
    "pwlog_19 = pwlog_19[pwlog_19['RESULT']=='W']\n",
    "pwlog_19 = pwlog_19['MARGIN'].apply(lambda x: x.split(\"+\")[1])\n",
    "pwlog_19 = pwlog_19.astype(int)\n",
    "pwlog_19.mean()"
   ]
  },
  {
   "cell_type": "code",
   "execution_count": 758,
   "metadata": {},
   "outputs": [
    {
     "data": {
      "text/plain": [
       "9.38888888888889"
      ]
     },
     "execution_count": 758,
     "metadata": {},
     "output_type": "execute_result"
    }
   ],
   "source": [
    "#Away Wins Log for 2020 Playoffs\n",
    "pwlog2_19 = plog_19[plog_19['HOME/AWAY']=='AWAY']\n",
    "pwlog2_19 = pwlog2_19[pwlog2_19['RESULT']=='W']\n",
    "pwlog2_19 = pwlog2_19['MARGIN'].apply(lambda x: x.split(\"+\")[1])\n",
    "pwlog2_19 = pwlog2_19.astype(int)\n",
    "pwlog2_19.mean()"
   ]
  },
  {
   "cell_type": "code",
   "execution_count": 759,
   "metadata": {},
   "outputs": [
    {
     "data": {
      "text/plain": [
       "-9.38888888888889"
      ]
     },
     "execution_count": 759,
     "metadata": {},
     "output_type": "execute_result"
    }
   ],
   "source": [
    "#Home Losses Log for 2019 Playoffs\n",
    "pllog_19 = plog_19[plog_19['HOME/AWAY']=='HOME']\n",
    "pllog_19 = pllog_19[pllog_19['RESULT']=='L']\n",
    "pllog_19 = pllog_19['MARGIN']\n",
    "pllog_19 = pllog_19.astype('float')\n",
    "pllog_19.mean()"
   ]
  },
  {
   "cell_type": "code",
   "execution_count": 760,
   "metadata": {},
   "outputs": [
    {
     "data": {
      "text/plain": [
       "-14.152173913043478"
      ]
     },
     "execution_count": 760,
     "metadata": {},
     "output_type": "execute_result"
    }
   ],
   "source": [
    "#Away Losses Log for 2019 Playoffs\n",
    "pllog2_19 = plog_19[plog_19['HOME/AWAY']=='AWAY']\n",
    "pllog2_19 = pllog2_19[pllog2_19['RESULT']=='L']\n",
    "pllog2_19 = pllog2_19['MARGIN']\n",
    "pllog2_19 = pllog2_19.astype('float')\n",
    "pllog2_19.mean()"
   ]
  },
  {
   "cell_type": "code",
   "execution_count": 769,
   "metadata": {},
   "outputs": [
    {
     "data": {
      "text/plain": [
       "3.817073170731707"
      ]
     },
     "execution_count": 769,
     "metadata": {},
     "output_type": "execute_result"
    }
   ],
   "source": [
    "phm_19 = pwlog_19.add(pllog_19,fill_value=0)\n",
    "phm_19.mean()\n"
   ]
  },
  {
   "cell_type": "code",
   "execution_count": 768,
   "metadata": {},
   "outputs": [
    {
     "data": {
      "text/plain": [
       "-3.817073170731707"
      ]
     },
     "execution_count": 768,
     "metadata": {},
     "output_type": "execute_result"
    }
   ],
   "source": [
    "pam_19 = pwlog2_19.add(pllog2_19,fill_value=0)\n",
    "pam_19.mean()"
   ]
  },
  {
   "cell_type": "code",
   "execution_count": 771,
   "metadata": {},
   "outputs": [
    {
     "data": {
      "image/png": "[encoded data removed]",
      "text/plain": [
       "<Figure size 864x504 with 2 Axes>"
      ]
     },
     "metadata": {
      "needs_background": "light"
     },
     "output_type": "display_data"
    }
   ],
   "source": [
    "#2018-2019 Playoffs Home/AWAY W/L\n",
    "\n",
    "fig, axs = plt.subplots(1,2, figsize=(12,7))\n",
    "\n",
    "#HOME\n",
    "#axs[0].set_ylim(0,75)\n",
    "axs[0].set_xlabel('Margin of Victory for HOME Games')\n",
    "axs[0].hist(pwlog_19,bins=10,color='steelblue')\n",
    "axs[0].hist(pllog_19,bins=10,color='firebrick')\n",
    "axs[0].axvline(phm_19.mean(), color='k', linestyle='dashed', linewidth=3, alpha=0.5)\n",
    "axs[0].text(phm_19.mean()*1.5, 11, 'Avg Margin: {:.2f}'.format(phm_19.mean()),bbox=dict(facecolor='orange', alpha=0.5),fontsize=15)\n",
    "\n",
    "#AWAY\n",
    "#axs[1].set_ylim(0,75)\n",
    "axs[1].set_xlabel('Margin of Victory for AWAY Games')\n",
    "axs[1].hist(pwlog2_19,bins=10,color='steelblue', alpha=0.5)\n",
    "axs[1].hist(pllog2_19,bins=10,color='firebrick',alpha=0.5)\n",
    "axs[1].axvline(pam_19.mean(), color='k', linestyle='dashed', linewidth=3, alpha=0.5)\n",
    "axs[1].text(pam_19.mean()*1.5, 11, 'Avg Margin: {:.2f}'.format(pam_19.mean()),bbox=dict(facecolor='orange', alpha=0.5),fontsize=15)\n",
    "\n",
    "\n",
    "fig.tight_layout()"
   ]
  },
  {
   "cell_type": "markdown",
   "metadata": {},
   "source": [
    "## Playoff Home Court Margin Pre Bubble vs Bubble"
   ]
  },
  {
   "cell_type": "code",
   "execution_count": 890,
   "metadata": {
    "scrolled": false
   },
   "outputs": [
    {
     "data": {
      "image/png": "[encoded data removed]",
      "text/plain": [
       "<Figure size 864x504 with 2 Axes>"
      ]
     },
     "metadata": {
      "needs_background": "light"
     },
     "output_type": "display_data"
    }
   ],
   "source": [
    "fig, axs = plt.subplots(1,2, figsize=(12,7))\n",
    "\n",
    "#HOME 2019\n",
    "axs[0].set_ylim(0,14)\n",
    "axs[0].set_xlabel('Margin of Victory for HOME Games 2019')\n",
    "axs[0].hist(pwlog_19,bins=10,color='steelblue')\n",
    "axs[0].hist(pllog_19,bins=10,color='tomato')\n",
    "axs[0].axvline(phm_19.mean(), color='k', linestyle='dashed', linewidth=3, alpha=0.7)\n",
    "axs[0].text(phm_19.mean()*1.5, 12, 'Avg Margin: {:.2f}'.format(phm_19.mean()),bbox=dict(facecolor='orange', alpha=0.5),fontsize=15)\n",
    "\n",
    "#Home 2020\n",
    "axs[1].set_ylim(0,14)\n",
    "axs[1].set_xlabel('Margin of Victory for HOME Games 2020')\n",
    "axs[1].hist(wlog_20,bins=10,color='steelblue')\n",
    "axs[1].hist(llog_20,bins=10,color='tomato')\n",
    "axs[1].axvline(log_20.mean(), color='k', linestyle='dashed', linewidth=3, alpha=0.7)\n",
    "axs[1].text(log_20.mean()+3, 12, 'Avg Margin: {:.2f}'.format(log_20.mean()),bbox=dict(facecolor='orange', alpha=0.5),fontsize=15)\n",
    "\n",
    "fig.tight_layout()"
   ]
  },
  {
   "cell_type": "code",
   "execution_count": 885,
   "metadata": {
    "scrolled": true
   },
   "outputs": [
    {
     "data": {
      "text/plain": [
       "Ttest_indResult(statistic=-0.5152802479446996, pvalue=0.6077106301720924)"
      ]
     },
     "execution_count": 885,
     "metadata": {},
     "output_type": "execute_result"
    }
   ],
   "source": [
    "#h0: There is not a difference in Home Court Advantage in the 2020 Playoff Bubble compared to the 2019 Playoffs.\n",
    "# Statistically, there is no significance in the data observed within the 2020 Playoff Bubble, but practically,\n",
    "# it seems significant. This is most likely due to the subset of data when Game Logs were aggregated from\n",
    "# a Player Level, to a Team Level. Further investigation would involve compiling more years of Regular Season\n",
    "# and Playoff data to the data set.\n",
    "phw20=wlog_20.astype(int)\n",
    "phw19=pwlog_19.astype(int)\n",
    "stats.ttest_ind(phw20,phw19)\n"
   ]
  },
  {
   "cell_type": "code",
   "execution_count": 796,
   "metadata": {},
   "outputs": [
    {
     "data": {
      "text/plain": [
       "9.614572273377535"
      ]
     },
     "execution_count": 796,
     "metadata": {},
     "output_type": "execute_result"
    }
   ],
   "source": [
    "np.std(phw20)"
   ]
  },
  {
   "cell_type": "code",
   "execution_count": 797,
   "metadata": {
    "scrolled": true
   },
   "outputs": [
    {
     "data": {
      "text/plain": [
       "9.084069647523547"
      ]
     },
     "execution_count": 797,
     "metadata": {},
     "output_type": "execute_result"
    }
   ],
   "source": [
    "np.std(phw19)"
   ]
  },
  {
   "cell_type": "markdown",
   "metadata": {},
   "source": [
    "# 2020 Regular Season Home Margin vs 2020 Playoff Home Margin"
   ]
  },
  {
   "cell_type": "code",
   "execution_count": 893,
   "metadata": {
    "scrolled": false
   },
   "outputs": [
    {
     "data": {
      "image/png": "[encoded data removed]",
      "text/plain": [
       "<Figure size 864x504 with 1 Axes>"
      ]
     },
     "metadata": {
      "needs_background": "light"
     },
     "output_type": "display_data"
    }
   ],
   "source": [
    "fig, ax = plt.subplots(figsize=(12,7))\n",
    "\n",
    "#HOME 2020 Regular Season\n",
    "ax.set_ylim(0,75)\n",
    "ax.set_ylabel('Frequency',size='xx-large')\n",
    "ax.set_xlabel('Margin of Victory or Loss from 2020 Regular Season & Playoff Games',size='xx-large')\n",
    "ax.hist(wlog_19,bins=25,color='steelblue',alpha=0.9,label='Reg Season Home Wins')\n",
    "ax.hist(llog_19,bins=25,color='lightsteelblue',label='Reg Season Home Losses')\n",
    "ax.axvline(log_19.mean(), color='steelblue', linestyle='dashed', linewidth=3, alpha=1)\n",
    "ax.text(log_19.mean()*1.5, 78, 'Avg Reg Season\\nMargin: {:.2f}'.format(log_19.mean()),bbox=dict(facecolor='steelblue', alpha=0.5),fontsize=15)\n",
    "\n",
    "#Home 2020 Playoffs\n",
    "ax.hist(wlog_20,bins=10,color='sandybrown',alpha=1,zorder=1,label='Playoff Home Wins')\n",
    "ax.hist(llog_20,bins=10,color='peachpuff',alpha=1,zorder=2, label='Playoff Home Losses')\n",
    "ax.axvline(log_20.mean(), color='darkorange', linestyle='dashed', linewidth=3, alpha=1)\n",
    "ax.text(-13, 78, 'Avg Playoff \\nMargin: {:.2f}'.format(log_20.mean()),bbox=dict(facecolor='sandybrown', alpha=0.7),fontsize=15)\n",
    "\n",
    "ax.legend()\n",
    "fig.tight_layout()"
   ]
  },
  {
   "cell_type": "code",
   "execution_count": 882,
   "metadata": {},
   "outputs": [
    {
     "data": {
      "text/plain": [
       "Ttest_indResult(statistic=0.524247585054788, pvalue=0.6027310440878602)"
      ]
     },
     "execution_count": 882,
     "metadata": {},
     "output_type": "execute_result"
    }
   ],
   "source": [
    "#h0: There is not a difference in Home Court Advantage in the 2020 Playoff Bubble compared to the 2020 Regular Season\n",
    "# Statistically, there is no significance in the data observed within the 2020 Playoff Bubble, but practically,\n",
    "# it seems significant. Further investigation would involve compiling more Regular Season and Playoff to the data set. \n",
    "phw20=wlog_20.astype(int)\n",
    "rshw19=wlog_19.astype(int)\n",
    "stats.ttest_ind(phw20,rshw19,equal_var=False)\n"
   ]
  },
  {
   "cell_type": "code",
   "execution_count": 877,
   "metadata": {},
   "outputs": [
    {
     "data": {
      "text/plain": [
       "9.614572273377535"
      ]
     },
     "execution_count": 877,
     "metadata": {},
     "output_type": "execute_result"
    }
   ],
   "source": [
    "np.std(phw20)"
   ]
  },
  {
   "cell_type": "code",
   "execution_count": 879,
   "metadata": {},
   "outputs": [
    {
     "data": {
      "text/plain": [
       "9.247318220273941"
      ]
     },
     "execution_count": 879,
     "metadata": {},
     "output_type": "execute_result"
    }
   ],
   "source": [
    "np.std(rshw19)"
   ]
  },
  {
   "cell_type": "markdown",
   "metadata": {},
   "source": [
    "# True Shooting In The Bubble"
   ]
  },
  {
   "cell_type": "code",
   "execution_count": 793,
   "metadata": {},
   "outputs": [],
   "source": [
    "ts19 = df['TS%'].dropna(inplace=True)\n",
    "ts20 = df2['TS%'].dropna(inplace=True)"
   ]
  },
  {
   "cell_type": "code",
   "execution_count": 795,
   "metadata": {},
   "outputs": [
    {
     "ename": "AttributeError",
     "evalue": "'NoneType' object has no attribute 'index'",
     "output_type": "error",
     "traceback": [
      "\u001b[0;31m---------------------------------------------------------------------------\u001b[0m",
      "\u001b[0;31mAttributeError\u001b[0m                            Traceback (most recent call last)",
      "\u001b[0;32m<ipython-input-795-336cd744a405>\u001b[0m in \u001b[0;36m<module>\u001b[0;34m\u001b[0m\n\u001b[0;32m----> 1\u001b[0;31m \u001b[0mlen\u001b[0m\u001b[0;34m(\u001b[0m\u001b[0mts19\u001b[0m\u001b[0;34m.\u001b[0m\u001b[0mindex\u001b[0m\u001b[0;34m)\u001b[0m\u001b[0;34m\u001b[0m\u001b[0;34m\u001b[0m\u001b[0m\n\u001b[0m",
      "\u001b[0;31mAttributeError\u001b[0m: 'NoneType' object has no attribute 'index'"
     ]
    }
   ],
   "source": [
    "len(ts19.index)"
   ]
  },
  {
   "cell_type": "code",
   "execution_count": 791,
   "metadata": {},
   "outputs": [
    {
     "name": "stderr",
     "output_type": "stream",
     "text": [
      "/Users/tiffanygarcia/anaconda3/lib/python3.7/site-packages/numpy/lib/histograms.py:839: RuntimeWarning: invalid value encountered in greater_equal\n",
      "  keep = (tmp_a >= first_edge)\n",
      "/Users/tiffanygarcia/anaconda3/lib/python3.7/site-packages/numpy/lib/histograms.py:840: RuntimeWarning: invalid value encountered in less_equal\n",
      "  keep &= (tmp_a <= last_edge)\n"
     ]
    },
    {
     "data": {
      "text/plain": [
       "(array([ 36.,  94., 252., 369., 329., 133.,  49.,   5.,   4.,   1.]),\n",
       " array([0.  , 0.15, 0.3 , 0.45, 0.6 , 0.75, 0.9 , 1.05, 1.2 , 1.35, 1.5 ]),\n",
       " <BarContainer object of 10 artists>)"
      ]
     },
     "execution_count": 791,
     "metadata": {},
     "output_type": "execute_result"
    },
    {
     "data": {
      "image/png": "[encoded data removed]",
      "text/plain": [
       "<Figure size 504x504 with 1 Axes>"
      ]
     },
     "metadata": {
      "needs_background": "light"
     },
     "output_type": "display_data"
    }
   ],
   "source": [
    "fig, ax = plt.subplots()\n",
    "ax.hist(ts19)"
   ]
  },
  {
   "cell_type": "code",
   "execution_count": null,
   "metadata": {},
   "outputs": [],
   "source": []
  }
 ],
 "metadata": {
  "kernelspec": {
   "display_name": "Python 3",
   "language": "python",
   "name": "python3"
  },
  "language_info": {
   "codemirror_mode": {
    "name": "ipython",
    "version": 3
   },
   "file_extension": ".py",
   "mimetype": "text/x-python",
   "name": "python",
   "nbconvert_exporter": "python",
   "pygments_lexer": "ipython3",
   "version": "3.7.9"
  }
 },
 "nbformat": 4,
 "nbformat_minor": 4
}
